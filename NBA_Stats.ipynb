{
  "cells": [
    {
      "cell_type": "markdown",
      "metadata": {
        "id": "view-in-github",
        "colab_type": "text"
      },
      "source": [
        "<a href=\"https://colab.research.google.com/github/LanitaMG/py_Evaluacion/blob/main/NBA_Stats.ipynb\" target=\"_parent\"><img src=\"https://colab.research.google.com/assets/colab-badge.svg\" alt=\"Open In Colab\"/></a>"
      ]
    },
    {
      "cell_type": "code",
      "execution_count": null,
      "metadata": {
        "id": "LtKt6O6ABJ-0"
      },
      "outputs": [],
      "source": [
        "#Importación de librerías\n",
        "import pandas as pd\n",
        "import matplotlib as mpl\n",
        "import numpy as np\n",
        "import seaborn as sns\n"
      ]
    },
    {
      "cell_type": "markdown",
      "metadata": {
        "id": "KaqpGhzfBJ-4"
      },
      "source": [
        "# Estadísticas NBA - Season 2021-2022"
      ]
    },
    {
      "cell_type": "markdown",
      "metadata": {
        "id": "t-LD1crwBJ-6"
      },
      "source": [
        "Datos\n",
        "Fuente: https://www.basketball-reference.com"
      ]
    },
    {
      "cell_type": "code",
      "execution_count": null,
      "metadata": {
        "id": "9CFvfbHDBJ-7"
      },
      "outputs": [],
      "source": [
        "#Creación del data frame a partir de un csv\n",
        "nba_stats_original = pd.read_csv(\"https://raw.githubusercontent.com/LanitaMG/py_Evaluacion/main/NBA_2021-2022.csv\", decimal=\",\")"
      ]
    },
    {
      "cell_type": "code",
      "execution_count": null,
      "metadata": {
        "colab": {
          "base_uri": "https://localhost:8080/"
        },
        "id": "u7bQt056BJ-9",
        "outputId": "0440b495-1791-4278-8010-0ce5b7ebae4c"
      },
      "outputs": [
        {
          "output_type": "execute_result",
          "data": {
            "text/plain": [
              "Index(['Rk', 'Player', 'Pos', 'Age', 'Tm', 'G', 'GS', 'MP', 'FG', 'FGA', 'FG%',\n",
              "       '3P', '3PA', '3P%', '2P', '2PA', '2P%', '0-3f%', '3-10f%', '10-16f%',\n",
              "       '16f-3P%', 'Dunks%', 'Dunks', 'FT', 'FTA', 'FT%', 'ORB', 'DRB', 'TRB',\n",
              "       'AST', 'STL', 'BLK', 'TOV', 'PF', 'PTS'],\n",
              "      dtype='object')"
            ]
          },
          "metadata": {},
          "execution_count": 17
        }
      ],
      "source": [
        "# Lista de columnas\n",
        "nba_stats_original.columns"
      ]
    },
    {
      "cell_type": "code",
      "source": [
        "# Tipo de datos\n",
        "nba_stats_original.dtypes"
      ],
      "metadata": {
        "id": "dT0rXxRs_ieZ",
        "outputId": "e0c5d599-a2d2-454e-acc2-e7082875a544",
        "colab": {
          "base_uri": "https://localhost:8080/"
        }
      },
      "execution_count": null,
      "outputs": [
        {
          "output_type": "execute_result",
          "data": {
            "text/plain": [
              "Rk           int64\n",
              "Player      object\n",
              "Pos         object\n",
              "Age          int64\n",
              "Tm          object\n",
              "G            int64\n",
              "GS           int64\n",
              "MP         float64\n",
              "FG         float64\n",
              "FGA        float64\n",
              "FG%        float64\n",
              "3P         float64\n",
              "3PA        float64\n",
              "3P%        float64\n",
              "2P         float64\n",
              "2PA        float64\n",
              "2P%        float64\n",
              "0-3f%      float64\n",
              "3-10f%     float64\n",
              "10-16f%    float64\n",
              "16f-3P%    float64\n",
              "Dunks%     float64\n",
              "Dunks        int64\n",
              "FT         float64\n",
              "FTA        float64\n",
              "FT%        float64\n",
              "ORB        float64\n",
              "DRB        float64\n",
              "TRB        float64\n",
              "AST        float64\n",
              "STL        float64\n",
              "BLK        float64\n",
              "TOV        float64\n",
              "PF         float64\n",
              "PTS        float64\n",
              "dtype: object"
            ]
          },
          "metadata": {},
          "execution_count": 5
        }
      ]
    },
    {
      "cell_type": "code",
      "execution_count": null,
      "metadata": {
        "colab": {
          "base_uri": "https://localhost:8080/",
          "height": 300
        },
        "id": "D5RVOzxuBJ-8",
        "outputId": "bf7fa210-5c9c-4acc-831e-1ce0cfffecaa"
      },
      "outputs": [
        {
          "output_type": "execute_result",
          "data": {
            "text/plain": [
              "               Rk         Age           G          GS          MP          FG  \\\n",
              "count  812.000000  812.000000  812.000000  812.000000  812.000000  812.000000   \n",
              "mean   304.501232   26.051724   36.705665   16.672414   18.264655    2.869828   \n",
              "std    172.637333    4.059640   25.898042   23.817195    9.649056    2.224084   \n",
              "min      1.000000   19.000000    1.000000    0.000000    1.000000    0.000000   \n",
              "25%    158.750000   23.000000   12.000000    0.000000   10.500000    1.200000   \n",
              "50%    300.500000   25.000000   36.500000    4.000000   17.500000    2.400000   \n",
              "75%    459.000000   29.000000   61.000000   25.000000   25.725000    3.900000   \n",
              "max    605.000000   41.000000   82.000000   82.000000   43.500000   11.400000   \n",
              "\n",
              "              FGA         FG%          3P         3PA         3P%          2P  \\\n",
              "count  812.000000  812.000000  812.000000  812.000000  812.000000  812.000000   \n",
              "mean     6.386330    0.426235    0.871305    2.560591    0.276538    2.000000   \n",
              "std      4.651322    0.148525    0.841935    2.205642    0.157579    1.762565   \n",
              "min      0.000000    0.000000    0.000000    0.000000    0.000000    0.000000   \n",
              "25%      3.000000    0.380750    0.200000    0.800000    0.224000    0.700000   \n",
              "50%      5.150000    0.439500    0.700000    2.050000    0.321500    1.500000   \n",
              "75%      8.725000    0.500000    1.400000    3.900000    0.370250    2.800000   \n",
              "max     21.800000    1.000000    4.500000   11.700000    1.000000    9.500000   \n",
              "\n",
              "              2PA         2P%  \n",
              "count  812.000000  812.000000  \n",
              "mean     3.828448    0.488091  \n",
              "std      3.192831    0.180538  \n",
              "min      0.000000    0.000000  \n",
              "25%      1.400000    0.444000  \n",
              "50%      3.000000    0.512000  \n",
              "75%      5.100000    0.578000  \n",
              "max     18.300000    1.000000  "
            ],
            "text/html": [
              "\n",
              "  <div id=\"df-33da46eb-0c6a-4d70-8d9e-72aa92e93464\">\n",
              "    <div class=\"colab-df-container\">\n",
              "      <div>\n",
              "<style scoped>\n",
              "    .dataframe tbody tr th:only-of-type {\n",
              "        vertical-align: middle;\n",
              "    }\n",
              "\n",
              "    .dataframe tbody tr th {\n",
              "        vertical-align: top;\n",
              "    }\n",
              "\n",
              "    .dataframe thead th {\n",
              "        text-align: right;\n",
              "    }\n",
              "</style>\n",
              "<table border=\"1\" class=\"dataframe\">\n",
              "  <thead>\n",
              "    <tr style=\"text-align: right;\">\n",
              "      <th></th>\n",
              "      <th>Rk</th>\n",
              "      <th>Age</th>\n",
              "      <th>G</th>\n",
              "      <th>GS</th>\n",
              "      <th>MP</th>\n",
              "      <th>FG</th>\n",
              "      <th>FGA</th>\n",
              "      <th>FG%</th>\n",
              "      <th>3P</th>\n",
              "      <th>3PA</th>\n",
              "      <th>3P%</th>\n",
              "      <th>2P</th>\n",
              "      <th>2PA</th>\n",
              "      <th>2P%</th>\n",
              "    </tr>\n",
              "  </thead>\n",
              "  <tbody>\n",
              "    <tr>\n",
              "      <th>count</th>\n",
              "      <td>812.000000</td>\n",
              "      <td>812.000000</td>\n",
              "      <td>812.000000</td>\n",
              "      <td>812.000000</td>\n",
              "      <td>812.000000</td>\n",
              "      <td>812.000000</td>\n",
              "      <td>812.000000</td>\n",
              "      <td>812.000000</td>\n",
              "      <td>812.000000</td>\n",
              "      <td>812.000000</td>\n",
              "      <td>812.000000</td>\n",
              "      <td>812.000000</td>\n",
              "      <td>812.000000</td>\n",
              "      <td>812.000000</td>\n",
              "    </tr>\n",
              "    <tr>\n",
              "      <th>mean</th>\n",
              "      <td>304.501232</td>\n",
              "      <td>26.051724</td>\n",
              "      <td>36.705665</td>\n",
              "      <td>16.672414</td>\n",
              "      <td>18.264655</td>\n",
              "      <td>2.869828</td>\n",
              "      <td>6.386330</td>\n",
              "      <td>0.426235</td>\n",
              "      <td>0.871305</td>\n",
              "      <td>2.560591</td>\n",
              "      <td>0.276538</td>\n",
              "      <td>2.000000</td>\n",
              "      <td>3.828448</td>\n",
              "      <td>0.488091</td>\n",
              "    </tr>\n",
              "    <tr>\n",
              "      <th>std</th>\n",
              "      <td>172.637333</td>\n",
              "      <td>4.059640</td>\n",
              "      <td>25.898042</td>\n",
              "      <td>23.817195</td>\n",
              "      <td>9.649056</td>\n",
              "      <td>2.224084</td>\n",
              "      <td>4.651322</td>\n",
              "      <td>0.148525</td>\n",
              "      <td>0.841935</td>\n",
              "      <td>2.205642</td>\n",
              "      <td>0.157579</td>\n",
              "      <td>1.762565</td>\n",
              "      <td>3.192831</td>\n",
              "      <td>0.180538</td>\n",
              "    </tr>\n",
              "    <tr>\n",
              "      <th>min</th>\n",
              "      <td>1.000000</td>\n",
              "      <td>19.000000</td>\n",
              "      <td>1.000000</td>\n",
              "      <td>0.000000</td>\n",
              "      <td>1.000000</td>\n",
              "      <td>0.000000</td>\n",
              "      <td>0.000000</td>\n",
              "      <td>0.000000</td>\n",
              "      <td>0.000000</td>\n",
              "      <td>0.000000</td>\n",
              "      <td>0.000000</td>\n",
              "      <td>0.000000</td>\n",
              "      <td>0.000000</td>\n",
              "      <td>0.000000</td>\n",
              "    </tr>\n",
              "    <tr>\n",
              "      <th>25%</th>\n",
              "      <td>158.750000</td>\n",
              "      <td>23.000000</td>\n",
              "      <td>12.000000</td>\n",
              "      <td>0.000000</td>\n",
              "      <td>10.500000</td>\n",
              "      <td>1.200000</td>\n",
              "      <td>3.000000</td>\n",
              "      <td>0.380750</td>\n",
              "      <td>0.200000</td>\n",
              "      <td>0.800000</td>\n",
              "      <td>0.224000</td>\n",
              "      <td>0.700000</td>\n",
              "      <td>1.400000</td>\n",
              "      <td>0.444000</td>\n",
              "    </tr>\n",
              "    <tr>\n",
              "      <th>50%</th>\n",
              "      <td>300.500000</td>\n",
              "      <td>25.000000</td>\n",
              "      <td>36.500000</td>\n",
              "      <td>4.000000</td>\n",
              "      <td>17.500000</td>\n",
              "      <td>2.400000</td>\n",
              "      <td>5.150000</td>\n",
              "      <td>0.439500</td>\n",
              "      <td>0.700000</td>\n",
              "      <td>2.050000</td>\n",
              "      <td>0.321500</td>\n",
              "      <td>1.500000</td>\n",
              "      <td>3.000000</td>\n",
              "      <td>0.512000</td>\n",
              "    </tr>\n",
              "    <tr>\n",
              "      <th>75%</th>\n",
              "      <td>459.000000</td>\n",
              "      <td>29.000000</td>\n",
              "      <td>61.000000</td>\n",
              "      <td>25.000000</td>\n",
              "      <td>25.725000</td>\n",
              "      <td>3.900000</td>\n",
              "      <td>8.725000</td>\n",
              "      <td>0.500000</td>\n",
              "      <td>1.400000</td>\n",
              "      <td>3.900000</td>\n",
              "      <td>0.370250</td>\n",
              "      <td>2.800000</td>\n",
              "      <td>5.100000</td>\n",
              "      <td>0.578000</td>\n",
              "    </tr>\n",
              "    <tr>\n",
              "      <th>max</th>\n",
              "      <td>605.000000</td>\n",
              "      <td>41.000000</td>\n",
              "      <td>82.000000</td>\n",
              "      <td>82.000000</td>\n",
              "      <td>43.500000</td>\n",
              "      <td>11.400000</td>\n",
              "      <td>21.800000</td>\n",
              "      <td>1.000000</td>\n",
              "      <td>4.500000</td>\n",
              "      <td>11.700000</td>\n",
              "      <td>1.000000</td>\n",
              "      <td>9.500000</td>\n",
              "      <td>18.300000</td>\n",
              "      <td>1.000000</td>\n",
              "    </tr>\n",
              "  </tbody>\n",
              "</table>\n",
              "</div>\n",
              "      <button class=\"colab-df-convert\" onclick=\"convertToInteractive('df-33da46eb-0c6a-4d70-8d9e-72aa92e93464')\"\n",
              "              title=\"Convert this dataframe to an interactive table.\"\n",
              "              style=\"display:none;\">\n",
              "        \n",
              "  <svg xmlns=\"http://www.w3.org/2000/svg\" height=\"24px\"viewBox=\"0 0 24 24\"\n",
              "       width=\"24px\">\n",
              "    <path d=\"M0 0h24v24H0V0z\" fill=\"none\"/>\n",
              "    <path d=\"M18.56 5.44l.94 2.06.94-2.06 2.06-.94-2.06-.94-.94-2.06-.94 2.06-2.06.94zm-11 1L8.5 8.5l.94-2.06 2.06-.94-2.06-.94L8.5 2.5l-.94 2.06-2.06.94zm10 10l.94 2.06.94-2.06 2.06-.94-2.06-.94-.94-2.06-.94 2.06-2.06.94z\"/><path d=\"M17.41 7.96l-1.37-1.37c-.4-.4-.92-.59-1.43-.59-.52 0-1.04.2-1.43.59L10.3 9.45l-7.72 7.72c-.78.78-.78 2.05 0 2.83L4 21.41c.39.39.9.59 1.41.59.51 0 1.02-.2 1.41-.59l7.78-7.78 2.81-2.81c.8-.78.8-2.07 0-2.86zM5.41 20L4 18.59l7.72-7.72 1.47 1.35L5.41 20z\"/>\n",
              "  </svg>\n",
              "      </button>\n",
              "      \n",
              "  <style>\n",
              "    .colab-df-container {\n",
              "      display:flex;\n",
              "      flex-wrap:wrap;\n",
              "      gap: 12px;\n",
              "    }\n",
              "\n",
              "    .colab-df-convert {\n",
              "      background-color: #E8F0FE;\n",
              "      border: none;\n",
              "      border-radius: 50%;\n",
              "      cursor: pointer;\n",
              "      display: none;\n",
              "      fill: #1967D2;\n",
              "      height: 32px;\n",
              "      padding: 0 0 0 0;\n",
              "      width: 32px;\n",
              "    }\n",
              "\n",
              "    .colab-df-convert:hover {\n",
              "      background-color: #E2EBFA;\n",
              "      box-shadow: 0px 1px 2px rgba(60, 64, 67, 0.3), 0px 1px 3px 1px rgba(60, 64, 67, 0.15);\n",
              "      fill: #174EA6;\n",
              "    }\n",
              "\n",
              "    [theme=dark] .colab-df-convert {\n",
              "      background-color: #3B4455;\n",
              "      fill: #D2E3FC;\n",
              "    }\n",
              "\n",
              "    [theme=dark] .colab-df-convert:hover {\n",
              "      background-color: #434B5C;\n",
              "      box-shadow: 0px 1px 3px 1px rgba(0, 0, 0, 0.15);\n",
              "      filter: drop-shadow(0px 1px 2px rgba(0, 0, 0, 0.3));\n",
              "      fill: #FFFFFF;\n",
              "    }\n",
              "  </style>\n",
              "\n",
              "      <script>\n",
              "        const buttonEl =\n",
              "          document.querySelector('#df-33da46eb-0c6a-4d70-8d9e-72aa92e93464 button.colab-df-convert');\n",
              "        buttonEl.style.display =\n",
              "          google.colab.kernel.accessAllowed ? 'block' : 'none';\n",
              "\n",
              "        async function convertToInteractive(key) {\n",
              "          const element = document.querySelector('#df-33da46eb-0c6a-4d70-8d9e-72aa92e93464');\n",
              "          const dataTable =\n",
              "            await google.colab.kernel.invokeFunction('convertToInteractive',\n",
              "                                                     [key], {});\n",
              "          if (!dataTable) return;\n",
              "\n",
              "          const docLinkHtml = 'Like what you see? Visit the ' +\n",
              "            '<a target=\"_blank\" href=https://colab.research.google.com/notebooks/data_table.ipynb>data table notebook</a>'\n",
              "            + ' to learn more about interactive tables.';\n",
              "          element.innerHTML = '';\n",
              "          dataTable['output_type'] = 'display_data';\n",
              "          await google.colab.output.renderOutput(dataTable, element);\n",
              "          const docLink = document.createElement('div');\n",
              "          docLink.innerHTML = docLinkHtml;\n",
              "          element.appendChild(docLink);\n",
              "        }\n",
              "      </script>\n",
              "    </div>\n",
              "  </div>\n",
              "  "
            ]
          },
          "metadata": {},
          "execution_count": 6
        }
      ],
      "source": [
        "#Descripción de los datos (1/2)\n",
        "nba_stats_original.filter(['Rk', 'Age', 'G', 'GS', 'MP', 'FG', 'FGA', 'FG%','3P', '3PA', '3P%', '2P', '2PA', '2P%']).describe()"
      ]
    },
    {
      "cell_type": "code",
      "source": [
        "#Descripción de los datos (2/2)\n",
        "nba_stats_original.filter(['0-3f%', '3-10f%', '10-16f%', '16f-3P%', 'Dunks%', 'Dunks', 'FT', 'FTA', 'FT%', 'ORB', 'DRB', 'TRB', 'AST', 'STL', 'BLK', 'TOV', 'PF', 'PTS']).describe()"
      ],
      "metadata": {
        "id": "ijmTOQsN_b7D",
        "outputId": "9924248c-107a-400c-f594-83e7bb879641",
        "colab": {
          "base_uri": "https://localhost:8080/",
          "height": 300
        }
      },
      "execution_count": null,
      "outputs": [
        {
          "output_type": "execute_result",
          "data": {
            "text/plain": [
              "            0-3f%      3-10f%    10-16f%     16f-3P%      Dunks%       Dunks  \\\n",
              "count  812.000000  812.000000  812.00000  812.000000  812.000000  812.000000   \n",
              "mean     0.601470    0.352713    0.30261    0.275959    0.062149   15.179803   \n",
              "std      0.245394    0.214614    0.24137    0.260482    0.097887   27.960112   \n",
              "min      0.000000    0.000000    0.00000    0.000000    0.000000    0.000000   \n",
              "25%      0.562750    0.250000    0.00000    0.000000    0.000000    0.000000   \n",
              "50%      0.667000    0.399000    0.34200    0.302500    0.024500    4.000000   \n",
              "75%      0.732250    0.483000    0.46550    0.429000    0.077000   17.000000   \n",
              "max      1.000000    1.000000    1.00000    1.000000    0.630000  233.000000   \n",
              "\n",
              "               FT         FTA         FT%         ORB         DRB         TRB  \\\n",
              "count  812.000000  812.000000  812.000000  812.000000  812.000000  812.000000   \n",
              "mean     1.204310    1.575123    0.658267    0.812808    2.519704    3.331527   \n",
              "std      1.288034    1.585927    0.283491    0.744173    1.790751    2.352880   \n",
              "min      0.000000    0.000000    0.000000    0.000000    0.000000    0.000000   \n",
              "25%      0.400000    0.500000    0.600000    0.300000    1.300000    1.700000   \n",
              "50%      0.900000    1.200000    0.750000    0.600000    2.300000    2.900000   \n",
              "75%      1.600000    2.000000    0.838000    1.100000    3.400000    4.400000   \n",
              "max      9.600000   11.800000    1.000000    4.600000   11.000000   14.700000   \n",
              "\n",
              "              AST         STL         BLK         TOV          PF         PTS  \n",
              "count  812.000000  812.000000  812.000000  812.000000  812.000000  812.000000  \n",
              "mean     1.808251    0.582759    0.353448    0.978695    1.564532    7.812192  \n",
              "std      1.838080    0.425452    0.360744    0.817941    0.826830    6.138266  \n",
              "min      0.000000    0.000000    0.000000    0.000000    0.000000    0.000000  \n",
              "25%      0.500000    0.300000    0.100000    0.400000    1.000000    3.300000  \n",
              "50%      1.200000    0.500000    0.300000    0.800000    1.600000    6.300000  \n",
              "75%      2.400000    0.900000    0.500000    1.300000    2.200000   10.600000  \n",
              "max     10.800000    2.500000    2.800000    4.800000    5.000000   30.600000  "
            ],
            "text/html": [
              "\n",
              "  <div id=\"df-c5403268-f552-4dda-aaa8-56892bb645df\">\n",
              "    <div class=\"colab-df-container\">\n",
              "      <div>\n",
              "<style scoped>\n",
              "    .dataframe tbody tr th:only-of-type {\n",
              "        vertical-align: middle;\n",
              "    }\n",
              "\n",
              "    .dataframe tbody tr th {\n",
              "        vertical-align: top;\n",
              "    }\n",
              "\n",
              "    .dataframe thead th {\n",
              "        text-align: right;\n",
              "    }\n",
              "</style>\n",
              "<table border=\"1\" class=\"dataframe\">\n",
              "  <thead>\n",
              "    <tr style=\"text-align: right;\">\n",
              "      <th></th>\n",
              "      <th>0-3f%</th>\n",
              "      <th>3-10f%</th>\n",
              "      <th>10-16f%</th>\n",
              "      <th>16f-3P%</th>\n",
              "      <th>Dunks%</th>\n",
              "      <th>Dunks</th>\n",
              "      <th>FT</th>\n",
              "      <th>FTA</th>\n",
              "      <th>FT%</th>\n",
              "      <th>ORB</th>\n",
              "      <th>DRB</th>\n",
              "      <th>TRB</th>\n",
              "      <th>AST</th>\n",
              "      <th>STL</th>\n",
              "      <th>BLK</th>\n",
              "      <th>TOV</th>\n",
              "      <th>PF</th>\n",
              "      <th>PTS</th>\n",
              "    </tr>\n",
              "  </thead>\n",
              "  <tbody>\n",
              "    <tr>\n",
              "      <th>count</th>\n",
              "      <td>812.000000</td>\n",
              "      <td>812.000000</td>\n",
              "      <td>812.00000</td>\n",
              "      <td>812.000000</td>\n",
              "      <td>812.000000</td>\n",
              "      <td>812.000000</td>\n",
              "      <td>812.000000</td>\n",
              "      <td>812.000000</td>\n",
              "      <td>812.000000</td>\n",
              "      <td>812.000000</td>\n",
              "      <td>812.000000</td>\n",
              "      <td>812.000000</td>\n",
              "      <td>812.000000</td>\n",
              "      <td>812.000000</td>\n",
              "      <td>812.000000</td>\n",
              "      <td>812.000000</td>\n",
              "      <td>812.000000</td>\n",
              "      <td>812.000000</td>\n",
              "    </tr>\n",
              "    <tr>\n",
              "      <th>mean</th>\n",
              "      <td>0.601470</td>\n",
              "      <td>0.352713</td>\n",
              "      <td>0.30261</td>\n",
              "      <td>0.275959</td>\n",
              "      <td>0.062149</td>\n",
              "      <td>15.179803</td>\n",
              "      <td>1.204310</td>\n",
              "      <td>1.575123</td>\n",
              "      <td>0.658267</td>\n",
              "      <td>0.812808</td>\n",
              "      <td>2.519704</td>\n",
              "      <td>3.331527</td>\n",
              "      <td>1.808251</td>\n",
              "      <td>0.582759</td>\n",
              "      <td>0.353448</td>\n",
              "      <td>0.978695</td>\n",
              "      <td>1.564532</td>\n",
              "      <td>7.812192</td>\n",
              "    </tr>\n",
              "    <tr>\n",
              "      <th>std</th>\n",
              "      <td>0.245394</td>\n",
              "      <td>0.214614</td>\n",
              "      <td>0.24137</td>\n",
              "      <td>0.260482</td>\n",
              "      <td>0.097887</td>\n",
              "      <td>27.960112</td>\n",
              "      <td>1.288034</td>\n",
              "      <td>1.585927</td>\n",
              "      <td>0.283491</td>\n",
              "      <td>0.744173</td>\n",
              "      <td>1.790751</td>\n",
              "      <td>2.352880</td>\n",
              "      <td>1.838080</td>\n",
              "      <td>0.425452</td>\n",
              "      <td>0.360744</td>\n",
              "      <td>0.817941</td>\n",
              "      <td>0.826830</td>\n",
              "      <td>6.138266</td>\n",
              "    </tr>\n",
              "    <tr>\n",
              "      <th>min</th>\n",
              "      <td>0.000000</td>\n",
              "      <td>0.000000</td>\n",
              "      <td>0.00000</td>\n",
              "      <td>0.000000</td>\n",
              "      <td>0.000000</td>\n",
              "      <td>0.000000</td>\n",
              "      <td>0.000000</td>\n",
              "      <td>0.000000</td>\n",
              "      <td>0.000000</td>\n",
              "      <td>0.000000</td>\n",
              "      <td>0.000000</td>\n",
              "      <td>0.000000</td>\n",
              "      <td>0.000000</td>\n",
              "      <td>0.000000</td>\n",
              "      <td>0.000000</td>\n",
              "      <td>0.000000</td>\n",
              "      <td>0.000000</td>\n",
              "      <td>0.000000</td>\n",
              "    </tr>\n",
              "    <tr>\n",
              "      <th>25%</th>\n",
              "      <td>0.562750</td>\n",
              "      <td>0.250000</td>\n",
              "      <td>0.00000</td>\n",
              "      <td>0.000000</td>\n",
              "      <td>0.000000</td>\n",
              "      <td>0.000000</td>\n",
              "      <td>0.400000</td>\n",
              "      <td>0.500000</td>\n",
              "      <td>0.600000</td>\n",
              "      <td>0.300000</td>\n",
              "      <td>1.300000</td>\n",
              "      <td>1.700000</td>\n",
              "      <td>0.500000</td>\n",
              "      <td>0.300000</td>\n",
              "      <td>0.100000</td>\n",
              "      <td>0.400000</td>\n",
              "      <td>1.000000</td>\n",
              "      <td>3.300000</td>\n",
              "    </tr>\n",
              "    <tr>\n",
              "      <th>50%</th>\n",
              "      <td>0.667000</td>\n",
              "      <td>0.399000</td>\n",
              "      <td>0.34200</td>\n",
              "      <td>0.302500</td>\n",
              "      <td>0.024500</td>\n",
              "      <td>4.000000</td>\n",
              "      <td>0.900000</td>\n",
              "      <td>1.200000</td>\n",
              "      <td>0.750000</td>\n",
              "      <td>0.600000</td>\n",
              "      <td>2.300000</td>\n",
              "      <td>2.900000</td>\n",
              "      <td>1.200000</td>\n",
              "      <td>0.500000</td>\n",
              "      <td>0.300000</td>\n",
              "      <td>0.800000</td>\n",
              "      <td>1.600000</td>\n",
              "      <td>6.300000</td>\n",
              "    </tr>\n",
              "    <tr>\n",
              "      <th>75%</th>\n",
              "      <td>0.732250</td>\n",
              "      <td>0.483000</td>\n",
              "      <td>0.46550</td>\n",
              "      <td>0.429000</td>\n",
              "      <td>0.077000</td>\n",
              "      <td>17.000000</td>\n",
              "      <td>1.600000</td>\n",
              "      <td>2.000000</td>\n",
              "      <td>0.838000</td>\n",
              "      <td>1.100000</td>\n",
              "      <td>3.400000</td>\n",
              "      <td>4.400000</td>\n",
              "      <td>2.400000</td>\n",
              "      <td>0.900000</td>\n",
              "      <td>0.500000</td>\n",
              "      <td>1.300000</td>\n",
              "      <td>2.200000</td>\n",
              "      <td>10.600000</td>\n",
              "    </tr>\n",
              "    <tr>\n",
              "      <th>max</th>\n",
              "      <td>1.000000</td>\n",
              "      <td>1.000000</td>\n",
              "      <td>1.00000</td>\n",
              "      <td>1.000000</td>\n",
              "      <td>0.630000</td>\n",
              "      <td>233.000000</td>\n",
              "      <td>9.600000</td>\n",
              "      <td>11.800000</td>\n",
              "      <td>1.000000</td>\n",
              "      <td>4.600000</td>\n",
              "      <td>11.000000</td>\n",
              "      <td>14.700000</td>\n",
              "      <td>10.800000</td>\n",
              "      <td>2.500000</td>\n",
              "      <td>2.800000</td>\n",
              "      <td>4.800000</td>\n",
              "      <td>5.000000</td>\n",
              "      <td>30.600000</td>\n",
              "    </tr>\n",
              "  </tbody>\n",
              "</table>\n",
              "</div>\n",
              "      <button class=\"colab-df-convert\" onclick=\"convertToInteractive('df-c5403268-f552-4dda-aaa8-56892bb645df')\"\n",
              "              title=\"Convert this dataframe to an interactive table.\"\n",
              "              style=\"display:none;\">\n",
              "        \n",
              "  <svg xmlns=\"http://www.w3.org/2000/svg\" height=\"24px\"viewBox=\"0 0 24 24\"\n",
              "       width=\"24px\">\n",
              "    <path d=\"M0 0h24v24H0V0z\" fill=\"none\"/>\n",
              "    <path d=\"M18.56 5.44l.94 2.06.94-2.06 2.06-.94-2.06-.94-.94-2.06-.94 2.06-2.06.94zm-11 1L8.5 8.5l.94-2.06 2.06-.94-2.06-.94L8.5 2.5l-.94 2.06-2.06.94zm10 10l.94 2.06.94-2.06 2.06-.94-2.06-.94-.94-2.06-.94 2.06-2.06.94z\"/><path d=\"M17.41 7.96l-1.37-1.37c-.4-.4-.92-.59-1.43-.59-.52 0-1.04.2-1.43.59L10.3 9.45l-7.72 7.72c-.78.78-.78 2.05 0 2.83L4 21.41c.39.39.9.59 1.41.59.51 0 1.02-.2 1.41-.59l7.78-7.78 2.81-2.81c.8-.78.8-2.07 0-2.86zM5.41 20L4 18.59l7.72-7.72 1.47 1.35L5.41 20z\"/>\n",
              "  </svg>\n",
              "      </button>\n",
              "      \n",
              "  <style>\n",
              "    .colab-df-container {\n",
              "      display:flex;\n",
              "      flex-wrap:wrap;\n",
              "      gap: 12px;\n",
              "    }\n",
              "\n",
              "    .colab-df-convert {\n",
              "      background-color: #E8F0FE;\n",
              "      border: none;\n",
              "      border-radius: 50%;\n",
              "      cursor: pointer;\n",
              "      display: none;\n",
              "      fill: #1967D2;\n",
              "      height: 32px;\n",
              "      padding: 0 0 0 0;\n",
              "      width: 32px;\n",
              "    }\n",
              "\n",
              "    .colab-df-convert:hover {\n",
              "      background-color: #E2EBFA;\n",
              "      box-shadow: 0px 1px 2px rgba(60, 64, 67, 0.3), 0px 1px 3px 1px rgba(60, 64, 67, 0.15);\n",
              "      fill: #174EA6;\n",
              "    }\n",
              "\n",
              "    [theme=dark] .colab-df-convert {\n",
              "      background-color: #3B4455;\n",
              "      fill: #D2E3FC;\n",
              "    }\n",
              "\n",
              "    [theme=dark] .colab-df-convert:hover {\n",
              "      background-color: #434B5C;\n",
              "      box-shadow: 0px 1px 3px 1px rgba(0, 0, 0, 0.15);\n",
              "      filter: drop-shadow(0px 1px 2px rgba(0, 0, 0, 0.3));\n",
              "      fill: #FFFFFF;\n",
              "    }\n",
              "  </style>\n",
              "\n",
              "      <script>\n",
              "        const buttonEl =\n",
              "          document.querySelector('#df-c5403268-f552-4dda-aaa8-56892bb645df button.colab-df-convert');\n",
              "        buttonEl.style.display =\n",
              "          google.colab.kernel.accessAllowed ? 'block' : 'none';\n",
              "\n",
              "        async function convertToInteractive(key) {\n",
              "          const element = document.querySelector('#df-c5403268-f552-4dda-aaa8-56892bb645df');\n",
              "          const dataTable =\n",
              "            await google.colab.kernel.invokeFunction('convertToInteractive',\n",
              "                                                     [key], {});\n",
              "          if (!dataTable) return;\n",
              "\n",
              "          const docLinkHtml = 'Like what you see? Visit the ' +\n",
              "            '<a target=\"_blank\" href=https://colab.research.google.com/notebooks/data_table.ipynb>data table notebook</a>'\n",
              "            + ' to learn more about interactive tables.';\n",
              "          element.innerHTML = '';\n",
              "          dataTable['output_type'] = 'display_data';\n",
              "          await google.colab.output.renderOutput(dataTable, element);\n",
              "          const docLink = document.createElement('div');\n",
              "          docLink.innerHTML = docLinkHtml;\n",
              "          element.appendChild(docLink);\n",
              "        }\n",
              "      </script>\n",
              "    </div>\n",
              "  </div>\n",
              "  "
            ]
          },
          "metadata": {},
          "execution_count": 7
        }
      ]
    },
    {
      "cell_type": "code",
      "execution_count": null,
      "metadata": {
        "colab": {
          "base_uri": "https://localhost:8080/",
          "height": 661
        },
        "id": "H9j07uWmBJ-9",
        "outputId": "0be98d45-1e61-494a-f40a-610d2490f4fc"
      },
      "outputs": [
        {
          "output_type": "execute_result",
          "data": {
            "text/plain": [
              "array(['TOR', 'MEM', 'MIA', 'BRK', 'UTA', 'TOT', 'NOP', 'MIL', 'CLE',\n",
              "       'IND', 'LAL', 'ORL', 'NYK', 'HOU', 'WAS', 'PHO', 'SAC', 'DET',\n",
              "       'CHO', 'CHI', 'ATL', 'DEN', 'PHI', 'SAS', 'LAC', 'OKC', 'MIN',\n",
              "       'DAL', 'GSW', 'POR', 'BOS'], dtype=object)"
            ]
          },
          "metadata": {},
          "execution_count": 8
        },
        {
          "output_type": "display_data",
          "data": {
            "text/plain": [
              "<Figure size 1440x720 with 1 Axes>"
            ],
            "image/png": "[encoded data removed]"
          },
          "metadata": {
            "needs_background": "light"
          }
        }
      ],
      "source": [
        "#Verificación de los valores de la columna Tm (Team)\n",
        "nba_stats_original['Tm'].value_counts().plot(kind='barh', figsize=(20,10))\n",
        "nba_stats_original['Tm'].unique()"
      ]
    },
    {
      "cell_type": "code",
      "execution_count": null,
      "metadata": {
        "id": "fe5W1hruBJ--"
      },
      "outputs": [],
      "source": [
        "# Eliminar equipo TOT (representa el total de la estadística de aquellos jugadores que pasaron por más de un equipo)\n",
        "# Mantener solamente las columnas relevantes\n",
        "nba_stats = nba_stats_original.loc[nba_stats_original[\"Tm\"] != 'TOT'].filter(['Rk','Player', 'Pos', 'Tm', '3P', '3P%', '2P', '2P%', '0-3f%', '3-10f%', '10-16f%','16f-3P%', 'Dunks', 'FT', 'FT%', 'TRB','AST', 'STL', 'BLK', 'TOV', 'PF', 'PTS'])\n"
      ]
    },
    {
      "cell_type": "markdown",
      "metadata": {
        "id": "g_hi_PlMBJ--"
      },
      "source": [
        "# Posiciones\n",
        "\n",
        "##  ¿Cuáles son las posiciones de juego en el baloncesto?\n",
        "PG\tBASE (Point Guard, Playmaker)\n",
        "\n",
        "SG\tESCOLTA (Alero Bajo, Shooting Guard)\n",
        "\n",
        "SF\tALERO (Alero Alto, Small Forward)\n",
        "\n",
        "PF\tALA-PIVOT (Power Forward)\n",
        "\n",
        "C\tPIVOT (Center)"
      ]
    },
    {
      "cell_type": "code",
      "execution_count": null,
      "metadata": {
        "colab": {
          "base_uri": "https://localhost:8080/",
          "height": 336
        },
        "id": "EVXz-jyrBJ-_",
        "outputId": "253b6cc3-6c68-409e-8a8f-9c5e827988b9"
      },
      "outputs": [
        {
          "output_type": "display_data",
          "data": {
            "text/plain": [
              "<Figure size 720x360 with 1 Axes>"
            ],
            "image/png": "[encoded data removed]"
          },
          "metadata": {
            "needs_background": "light"
          }
        }
      ],
      "source": [
        "# Total de puntos por posición (la tabla suministra el promedio de puntos por partido por jugador)\n",
        "nba_stats.groupby('Pos')['PTS'].sum().plot(kind='barh', legend='Reverse', title='Puntos por posición', figsize=(10,5));\n",
        "\n"
      ]
    },
    {
      "cell_type": "code",
      "execution_count": null,
      "metadata": {
        "colab": {
          "base_uri": "https://localhost:8080/",
          "height": 336
        },
        "id": "CWW8ZYkeBJ_A",
        "outputId": "c7ab0e5f-3bca-4587-9378-b955abfd87dc"
      },
      "outputs": [
        {
          "output_type": "display_data",
          "data": {
            "text/plain": [
              "<Figure size 720x360 with 1 Axes>"
            ],
            "image/png": "[encoded data removed]"
          },
          "metadata": {
            "needs_background": "light"
          }
        }
      ],
      "source": [
        "# Total de asistencias por posición (la tabla suministra el promedio de asistencias por partido por jugador)\n",
        "nba_stats.groupby('Pos')['AST'].sum().plot(kind='barh', legend='Reverse', title='Asistencias por posición', figsize=(10,5));\n"
      ]
    },
    {
      "cell_type": "code",
      "execution_count": null,
      "metadata": {
        "colab": {
          "base_uri": "https://localhost:8080/",
          "height": 336
        },
        "id": "YQ0hQ-grBJ_B",
        "outputId": "83d671ce-d543-4f4c-d7ab-e9003858e516"
      },
      "outputs": [
        {
          "output_type": "display_data",
          "data": {
            "text/plain": [
              "<Figure size 720x360 with 1 Axes>"
            ],
            "image/png": "[encoded data removed]"
          },
          "metadata": {
            "needs_background": "light"
          }
        }
      ],
      "source": [
        "# Total de rebotes por posición (la tabla suministra el promedio de rebotes por partido por jugador)\n",
        "nba_stats.groupby('Pos')['TRB'].sum().plot(kind='barh', legend='Reverse', title='Rebotes por posición', figsize=(10,5));\n"
      ]
    },
    {
      "cell_type": "code",
      "execution_count": null,
      "metadata": {
        "colab": {
          "base_uri": "https://localhost:8080/",
          "height": 336
        },
        "id": "9NJzGPXwBJ_B",
        "outputId": "d54a5e57-e46a-45aa-ec22-69a35ff42b5f"
      },
      "outputs": [
        {
          "output_type": "display_data",
          "data": {
            "text/plain": [
              "<Figure size 720x360 with 1 Axes>"
            ],
            "image/png": "[encoded data removed]"
          },
          "metadata": {
            "needs_background": "light"
          }
        }
      ],
      "source": [
        "# Total de bloqueos por posición (la tabla suministra el promedio de bloqueos por partido por jugador)\n",
        "nba_stats.groupby('Pos')['BLK'].sum().plot(kind='barh', legend='Reverse', title='Bloqueos por posición', figsize=(10,5));\n"
      ]
    },
    {
      "cell_type": "code",
      "execution_count": null,
      "metadata": {
        "colab": {
          "base_uri": "https://localhost:8080/",
          "height": 499
        },
        "id": "MNximnXEBJ_C",
        "outputId": "922a8445-18c8-4e18-8904-120dc0615bc4"
      },
      "outputs": [
        {
          "output_type": "display_data",
          "data": {
            "text/plain": [
              "<Figure size 720x576 with 1 Axes>"
            ],
            "image/png": "[encoded data removed]"
          },
          "metadata": {
            "needs_background": "light"
          }
        }
      ],
      "source": [
        "# Efectividad de tipo por posición: tiros libres (FT), dobles (2P) y triples (3P)\n",
        "nba_stats.groupby('Pos').mean().filter(['2P%','3P%', 'FT%']).plot(kind='barh', title='Efectividad de tiro por posición', figsize=(10,8));\n"
      ]
    },
    {
      "cell_type": "code",
      "execution_count": null,
      "metadata": {
        "colab": {
          "base_uri": "https://localhost:8080/",
          "height": 499
        },
        "id": "rMWX_dTuBJ_D",
        "outputId": "56748ae4-0686-47ce-b055-e347493b8a5c"
      },
      "outputs": [
        {
          "output_type": "display_data",
          "data": {
            "text/plain": [
              "<Figure size 720x576 with 1 Axes>"
            ],
            "image/png": "[encoded data removed]"
          },
          "metadata": {
            "needs_background": "light"
          }
        }
      ],
      "source": [
        "# Efectividad de tipo por posición: distancia al aro \n",
        "nba_stats.groupby('Pos').mean().filter(['0-3f%', '3-10f%', '10-16f%','16f-3P%']).plot(kind='barh', title='Efectividad de tiro - Distancia', figsize=(10,8));\n"
      ]
    },
    {
      "cell_type": "code",
      "execution_count": null,
      "metadata": {
        "id": "7--Ebxs9BJ_D",
        "outputId": "9b316122-74a9-4c95-8e3b-dc57bf9448cc",
        "colab": {
          "base_uri": "https://localhost:8080/",
          "height": 369
        }
      },
      "outputs": [
        {
          "output_type": "display_data",
          "data": {
            "text/plain": [
              "<Figure size 410x360 with 1 Axes>"
            ],
            "image/png": "[encoded data removed]"
          },
          "metadata": {
            "needs_background": "light"
          }
        }
      ],
      "source": [
        "# Cantidad de puntos dobles y triples anotados por posición\n",
        "sns.lmplot(x='2P', y='3P', data=nba_stats, hue='Pos');\n"
      ]
    },
    {
      "cell_type": "code",
      "execution_count": null,
      "metadata": {
        "colab": {
          "base_uri": "https://localhost:8080/",
          "height": 369
        },
        "id": "XzfPftmGBJ_E",
        "outputId": "f39b6a40-64f2-4cf4-d111-e1da3fdc96cd"
      },
      "outputs": [
        {
          "output_type": "display_data",
          "data": {
            "text/plain": [
              "<Figure size 1800x360 with 5 Axes>"
            ],
            "image/png": "[encoded data removed]"
          },
          "metadata": {
            "needs_background": "light"
          }
        }
      ],
      "source": [
        "# Cantidad de volcadas por posición\n",
        "sns.displot(nba_stats, x='Dunks', col=\"Pos\");\n"
      ]
    },
    {
      "cell_type": "code",
      "source": [
        "# Listado de los 15 jugadores con mayor cantidad de volcadas\n",
        "nba_stats.nlargest(15, columns=['Dunks']).filter(['Player', 'Tm', 'Dunks'])"
      ],
      "metadata": {
        "colab": {
          "base_uri": "https://localhost:8080/",
          "height": 520
        },
        "id": "mWWoJPIXefA_",
        "outputId": "ed201d9a-e85e-411b-c698-8b88750b1c92"
      },
      "execution_count": 57,
      "outputs": [
        {
          "output_type": "execute_result",
          "data": {
            "text/plain": [
              "                    Player   Tm  Dunks\n",
              "257            Rudy Gobert  UTA    233\n",
              "15   Giannis Antetokounmpo  MIL    179\n",
              "635      Mitchell Robinson  NYK    178\n",
              "9            Jarrett Allen  CLE    164\n",
              "112           Clint Capela  ATL    164\n",
              "241         Daniel Gafford  WAS    158\n",
              "789        Robert Williams  BOS    157\n",
              "516            Evan Mobley  CLE    151\n",
              "260           Aaron Gordon  DEN    130\n",
              "797         Christian Wood  HOU    120\n",
              "2              Bam Adebayo  MIA    119\n",
              "78           Miles Bridges  CHO    118\n",
              "747      Jarred Vanderbilt  MIN    117\n",
              "480      Kenyon Martin Jr,  HOU    114\n",
              "160          Anthony Davis  LAL    111"
            ],
            "text/html": [
              "\n",
              "  <div id=\"df-865d24cf-c619-4f5f-9e11-5b436bdf721f\">\n",
              "    <div class=\"colab-df-container\">\n",
              "      <div>\n",
              "<style scoped>\n",
              "    .dataframe tbody tr th:only-of-type {\n",
              "        vertical-align: middle;\n",
              "    }\n",
              "\n",
              "    .dataframe tbody tr th {\n",
              "        vertical-align: top;\n",
              "    }\n",
              "\n",
              "    .dataframe thead th {\n",
              "        text-align: right;\n",
              "    }\n",
              "</style>\n",
              "<table border=\"1\" class=\"dataframe\">\n",
              "  <thead>\n",
              "    <tr style=\"text-align: right;\">\n",
              "      <th></th>\n",
              "      <th>Player</th>\n",
              "      <th>Tm</th>\n",
              "      <th>Dunks</th>\n",
              "    </tr>\n",
              "  </thead>\n",
              "  <tbody>\n",
              "    <tr>\n",
              "      <th>257</th>\n",
              "      <td>Rudy Gobert</td>\n",
              "      <td>UTA</td>\n",
              "      <td>233</td>\n",
              "    </tr>\n",
              "    <tr>\n",
              "      <th>15</th>\n",
              "      <td>Giannis Antetokounmpo</td>\n",
              "      <td>MIL</td>\n",
              "      <td>179</td>\n",
              "    </tr>\n",
              "    <tr>\n",
              "      <th>635</th>\n",
              "      <td>Mitchell Robinson</td>\n",
              "      <td>NYK</td>\n",
              "      <td>178</td>\n",
              "    </tr>\n",
              "    <tr>\n",
              "      <th>9</th>\n",
              "      <td>Jarrett Allen</td>\n",
              "      <td>CLE</td>\n",
              "      <td>164</td>\n",
              "    </tr>\n",
              "    <tr>\n",
              "      <th>112</th>\n",
              "      <td>Clint Capela</td>\n",
              "      <td>ATL</td>\n",
              "      <td>164</td>\n",
              "    </tr>\n",
              "    <tr>\n",
              "      <th>241</th>\n",
              "      <td>Daniel Gafford</td>\n",
              "      <td>WAS</td>\n",
              "      <td>158</td>\n",
              "    </tr>\n",
              "    <tr>\n",
              "      <th>789</th>\n",
              "      <td>Robert Williams</td>\n",
              "      <td>BOS</td>\n",
              "      <td>157</td>\n",
              "    </tr>\n",
              "    <tr>\n",
              "      <th>516</th>\n",
              "      <td>Evan Mobley</td>\n",
              "      <td>CLE</td>\n",
              "      <td>151</td>\n",
              "    </tr>\n",
              "    <tr>\n",
              "      <th>260</th>\n",
              "      <td>Aaron Gordon</td>\n",
              "      <td>DEN</td>\n",
              "      <td>130</td>\n",
              "    </tr>\n",
              "    <tr>\n",
              "      <th>797</th>\n",
              "      <td>Christian Wood</td>\n",
              "      <td>HOU</td>\n",
              "      <td>120</td>\n",
              "    </tr>\n",
              "    <tr>\n",
              "      <th>2</th>\n",
              "      <td>Bam Adebayo</td>\n",
              "      <td>MIA</td>\n",
              "      <td>119</td>\n",
              "    </tr>\n",
              "    <tr>\n",
              "      <th>78</th>\n",
              "      <td>Miles Bridges</td>\n",
              "      <td>CHO</td>\n",
              "      <td>118</td>\n",
              "    </tr>\n",
              "    <tr>\n",
              "      <th>747</th>\n",
              "      <td>Jarred Vanderbilt</td>\n",
              "      <td>MIN</td>\n",
              "      <td>117</td>\n",
              "    </tr>\n",
              "    <tr>\n",
              "      <th>480</th>\n",
              "      <td>Kenyon Martin Jr,</td>\n",
              "      <td>HOU</td>\n",
              "      <td>114</td>\n",
              "    </tr>\n",
              "    <tr>\n",
              "      <th>160</th>\n",
              "      <td>Anthony Davis</td>\n",
              "      <td>LAL</td>\n",
              "      <td>111</td>\n",
              "    </tr>\n",
              "  </tbody>\n",
              "</table>\n",
              "</div>\n",
              "      <button class=\"colab-df-convert\" onclick=\"convertToInteractive('df-865d24cf-c619-4f5f-9e11-5b436bdf721f')\"\n",
              "              title=\"Convert this dataframe to an interactive table.\"\n",
              "              style=\"display:none;\">\n",
              "        \n",
              "  <svg xmlns=\"http://www.w3.org/2000/svg\" height=\"24px\"viewBox=\"0 0 24 24\"\n",
              "       width=\"24px\">\n",
              "    <path d=\"M0 0h24v24H0V0z\" fill=\"none\"/>\n",
              "    <path d=\"M18.56 5.44l.94 2.06.94-2.06 2.06-.94-2.06-.94-.94-2.06-.94 2.06-2.06.94zm-11 1L8.5 8.5l.94-2.06 2.06-.94-2.06-.94L8.5 2.5l-.94 2.06-2.06.94zm10 10l.94 2.06.94-2.06 2.06-.94-2.06-.94-.94-2.06-.94 2.06-2.06.94z\"/><path d=\"M17.41 7.96l-1.37-1.37c-.4-.4-.92-.59-1.43-.59-.52 0-1.04.2-1.43.59L10.3 9.45l-7.72 7.72c-.78.78-.78 2.05 0 2.83L4 21.41c.39.39.9.59 1.41.59.51 0 1.02-.2 1.41-.59l7.78-7.78 2.81-2.81c.8-.78.8-2.07 0-2.86zM5.41 20L4 18.59l7.72-7.72 1.47 1.35L5.41 20z\"/>\n",
              "  </svg>\n",
              "      </button>\n",
              "      \n",
              "  <style>\n",
              "    .colab-df-container {\n",
              "      display:flex;\n",
              "      flex-wrap:wrap;\n",
              "      gap: 12px;\n",
              "    }\n",
              "\n",
              "    .colab-df-convert {\n",
              "      background-color: #E8F0FE;\n",
              "      border: none;\n",
              "      border-radius: 50%;\n",
              "      cursor: pointer;\n",
              "      display: none;\n",
              "      fill: #1967D2;\n",
              "      height: 32px;\n",
              "      padding: 0 0 0 0;\n",
              "      width: 32px;\n",
              "    }\n",
              "\n",
              "    .colab-df-convert:hover {\n",
              "      background-color: #E2EBFA;\n",
              "      box-shadow: 0px 1px 2px rgba(60, 64, 67, 0.3), 0px 1px 3px 1px rgba(60, 64, 67, 0.15);\n",
              "      fill: #174EA6;\n",
              "    }\n",
              "\n",
              "    [theme=dark] .colab-df-convert {\n",
              "      background-color: #3B4455;\n",
              "      fill: #D2E3FC;\n",
              "    }\n",
              "\n",
              "    [theme=dark] .colab-df-convert:hover {\n",
              "      background-color: #434B5C;\n",
              "      box-shadow: 0px 1px 3px 1px rgba(0, 0, 0, 0.15);\n",
              "      filter: drop-shadow(0px 1px 2px rgba(0, 0, 0, 0.3));\n",
              "      fill: #FFFFFF;\n",
              "    }\n",
              "  </style>\n",
              "\n",
              "      <script>\n",
              "        const buttonEl =\n",
              "          document.querySelector('#df-865d24cf-c619-4f5f-9e11-5b436bdf721f button.colab-df-convert');\n",
              "        buttonEl.style.display =\n",
              "          google.colab.kernel.accessAllowed ? 'block' : 'none';\n",
              "\n",
              "        async function convertToInteractive(key) {\n",
              "          const element = document.querySelector('#df-865d24cf-c619-4f5f-9e11-5b436bdf721f');\n",
              "          const dataTable =\n",
              "            await google.colab.kernel.invokeFunction('convertToInteractive',\n",
              "                                                     [key], {});\n",
              "          if (!dataTable) return;\n",
              "\n",
              "          const docLinkHtml = 'Like what you see? Visit the ' +\n",
              "            '<a target=\"_blank\" href=https://colab.research.google.com/notebooks/data_table.ipynb>data table notebook</a>'\n",
              "            + ' to learn more about interactive tables.';\n",
              "          element.innerHTML = '';\n",
              "          dataTable['output_type'] = 'display_data';\n",
              "          await google.colab.output.renderOutput(dataTable, element);\n",
              "          const docLink = document.createElement('div');\n",
              "          docLink.innerHTML = docLinkHtml;\n",
              "          element.appendChild(docLink);\n",
              "        }\n",
              "      </script>\n",
              "    </div>\n",
              "  </div>\n",
              "  "
            ]
          },
          "metadata": {},
          "execution_count": 57
        }
      ]
    },
    {
      "cell_type": "code",
      "execution_count": 62,
      "metadata": {
        "id": "V98Dde2KBJ_D",
        "outputId": "02e964c0-e2e9-4325-e29a-3c1b7b80c586",
        "colab": {
          "base_uri": "https://localhost:8080/",
          "height": 279
        }
      },
      "outputs": [
        {
          "output_type": "display_data",
          "data": {
            "text/plain": [
              "<Figure size 432x288 with 1 Axes>"
            ],
            "image/png": "[encoded data removed]"
          },
          "metadata": {
            "needs_background": "light"
          }
        }
      ],
      "source": [
        "# Distribución de puntos por posición\n",
        "sns.boxplot(x=\"Pos\", y=\"PTS\", data=nba_stats);\n"
      ]
    },
    {
      "cell_type": "code",
      "source": [
        "# Determinar los jugadores que generan los valores atípicos\n",
        "\n",
        "# Determinación del Q3, IQR y valor del bigote superior\n",
        "Q3 = nba_stats['PTS'].quantile(0.75)\n",
        "IQR = nba_stats['PTS'].quantile(0.75) - nba_stats['PTS'].quantile(0.25)\n",
        "BS = (Q3 + 1.5 * IQR)\n",
        "\n",
        "# Listado de jugadores con anotaciones con valores atípicos\n",
        "Jugadores = nba_stats[nba_stats['PTS']> BS]\n",
        "Jugadores.filter(['Player', 'Pos', 'PTS'])\n"
      ],
      "metadata": {
        "id": "d85DTBBmTwpy",
        "outputId": "d1e5cd6a-e44d-4163-dd31-0cadb1c530c6",
        "colab": {
          "base_uri": "https://localhost:8080/",
          "height": 896
        }
      },
      "execution_count": null,
      "outputs": [
        {
          "output_type": "execute_result",
          "data": {
            "text/plain": [
              "                      Player Pos   PTS\n",
              "15     Giannis Antetokounmpo  PF  29.9\n",
              "48              Bradley Beal  SG  23.2\n",
              "70              Devin Booker  SG  26.8\n",
              "93              Jaylen Brown  SF  23.6\n",
              "159            Stephen Curry  PG  25.5\n",
              "160            Anthony Davis   C  23.2\n",
              "167            DeMar DeRozan  PF  27.9\n",
              "178              Luka Dončić  PG  28.4\n",
              "198             Kevin Durant  PF  29.9\n",
              "206              Joel Embiid   C  30.6\n",
              "230             De'Aaron Fox  PG  23.2\n",
              "251              Paul George  PF  24.3\n",
              "254  Shai Gilgeous-Alexander  PG  24.5\n",
              "284             James Harden  PG  22.5\n",
              "355           Brandon Ingram  SF  22.7\n",
              "356             Kyrie Irving  PG  27.4\n",
              "368             LeBron James  PF  30.3\n",
              "391             Nikola Jokić   C  27.1\n",
              "442              Zach LaVine  SG  24.4\n",
              "452           Damian Lillard  PG  24.0\n",
              "492              CJ McCollum  SG  24.3\n",
              "515         Donovan Mitchell  SG  25.9\n",
              "526                Ja Morant  PG  27.4\n",
              "667            Pascal Siakam  PF  22.8\n",
              "708             Jayson Tatum  SF  26.9\n",
              "736       Karl-Anthony Towns   C  24.6\n",
              "808               Trae Young  PG  28.4"
            ],
            "text/html": [
              "\n",
              "  <div id=\"df-d37df7a4-3be7-415f-b463-a6d40545c282\">\n",
              "    <div class=\"colab-df-container\">\n",
              "      <div>\n",
              "<style scoped>\n",
              "    .dataframe tbody tr th:only-of-type {\n",
              "        vertical-align: middle;\n",
              "    }\n",
              "\n",
              "    .dataframe tbody tr th {\n",
              "        vertical-align: top;\n",
              "    }\n",
              "\n",
              "    .dataframe thead th {\n",
              "        text-align: right;\n",
              "    }\n",
              "</style>\n",
              "<table border=\"1\" class=\"dataframe\">\n",
              "  <thead>\n",
              "    <tr style=\"text-align: right;\">\n",
              "      <th></th>\n",
              "      <th>Player</th>\n",
              "      <th>Pos</th>\n",
              "      <th>PTS</th>\n",
              "    </tr>\n",
              "  </thead>\n",
              "  <tbody>\n",
              "    <tr>\n",
              "      <th>15</th>\n",
              "      <td>Giannis Antetokounmpo</td>\n",
              "      <td>PF</td>\n",
              "      <td>29.9</td>\n",
              "    </tr>\n",
              "    <tr>\n",
              "      <th>48</th>\n",
              "      <td>Bradley Beal</td>\n",
              "      <td>SG</td>\n",
              "      <td>23.2</td>\n",
              "    </tr>\n",
              "    <tr>\n",
              "      <th>70</th>\n",
              "      <td>Devin Booker</td>\n",
              "      <td>SG</td>\n",
              "      <td>26.8</td>\n",
              "    </tr>\n",
              "    <tr>\n",
              "      <th>93</th>\n",
              "      <td>Jaylen Brown</td>\n",
              "      <td>SF</td>\n",
              "      <td>23.6</td>\n",
              "    </tr>\n",
              "    <tr>\n",
              "      <th>159</th>\n",
              "      <td>Stephen Curry</td>\n",
              "      <td>PG</td>\n",
              "      <td>25.5</td>\n",
              "    </tr>\n",
              "    <tr>\n",
              "      <th>160</th>\n",
              "      <td>Anthony Davis</td>\n",
              "      <td>C</td>\n",
              "      <td>23.2</td>\n",
              "    </tr>\n",
              "    <tr>\n",
              "      <th>167</th>\n",
              "      <td>DeMar DeRozan</td>\n",
              "      <td>PF</td>\n",
              "      <td>27.9</td>\n",
              "    </tr>\n",
              "    <tr>\n",
              "      <th>178</th>\n",
              "      <td>Luka Dončić</td>\n",
              "      <td>PG</td>\n",
              "      <td>28.4</td>\n",
              "    </tr>\n",
              "    <tr>\n",
              "      <th>198</th>\n",
              "      <td>Kevin Durant</td>\n",
              "      <td>PF</td>\n",
              "      <td>29.9</td>\n",
              "    </tr>\n",
              "    <tr>\n",
              "      <th>206</th>\n",
              "      <td>Joel Embiid</td>\n",
              "      <td>C</td>\n",
              "      <td>30.6</td>\n",
              "    </tr>\n",
              "    <tr>\n",
              "      <th>230</th>\n",
              "      <td>De'Aaron Fox</td>\n",
              "      <td>PG</td>\n",
              "      <td>23.2</td>\n",
              "    </tr>\n",
              "    <tr>\n",
              "      <th>251</th>\n",
              "      <td>Paul George</td>\n",
              "      <td>PF</td>\n",
              "      <td>24.3</td>\n",
              "    </tr>\n",
              "    <tr>\n",
              "      <th>254</th>\n",
              "      <td>Shai Gilgeous-Alexander</td>\n",
              "      <td>PG</td>\n",
              "      <td>24.5</td>\n",
              "    </tr>\n",
              "    <tr>\n",
              "      <th>284</th>\n",
              "      <td>James Harden</td>\n",
              "      <td>PG</td>\n",
              "      <td>22.5</td>\n",
              "    </tr>\n",
              "    <tr>\n",
              "      <th>355</th>\n",
              "      <td>Brandon Ingram</td>\n",
              "      <td>SF</td>\n",
              "      <td>22.7</td>\n",
              "    </tr>\n",
              "    <tr>\n",
              "      <th>356</th>\n",
              "      <td>Kyrie Irving</td>\n",
              "      <td>PG</td>\n",
              "      <td>27.4</td>\n",
              "    </tr>\n",
              "    <tr>\n",
              "      <th>368</th>\n",
              "      <td>LeBron James</td>\n",
              "      <td>PF</td>\n",
              "      <td>30.3</td>\n",
              "    </tr>\n",
              "    <tr>\n",
              "      <th>391</th>\n",
              "      <td>Nikola Jokić</td>\n",
              "      <td>C</td>\n",
              "      <td>27.1</td>\n",
              "    </tr>\n",
              "    <tr>\n",
              "      <th>442</th>\n",
              "      <td>Zach LaVine</td>\n",
              "      <td>SG</td>\n",
              "      <td>24.4</td>\n",
              "    </tr>\n",
              "    <tr>\n",
              "      <th>452</th>\n",
              "      <td>Damian Lillard</td>\n",
              "      <td>PG</td>\n",
              "      <td>24.0</td>\n",
              "    </tr>\n",
              "    <tr>\n",
              "      <th>492</th>\n",
              "      <td>CJ McCollum</td>\n",
              "      <td>SG</td>\n",
              "      <td>24.3</td>\n",
              "    </tr>\n",
              "    <tr>\n",
              "      <th>515</th>\n",
              "      <td>Donovan Mitchell</td>\n",
              "      <td>SG</td>\n",
              "      <td>25.9</td>\n",
              "    </tr>\n",
              "    <tr>\n",
              "      <th>526</th>\n",
              "      <td>Ja Morant</td>\n",
              "      <td>PG</td>\n",
              "      <td>27.4</td>\n",
              "    </tr>\n",
              "    <tr>\n",
              "      <th>667</th>\n",
              "      <td>Pascal Siakam</td>\n",
              "      <td>PF</td>\n",
              "      <td>22.8</td>\n",
              "    </tr>\n",
              "    <tr>\n",
              "      <th>708</th>\n",
              "      <td>Jayson Tatum</td>\n",
              "      <td>SF</td>\n",
              "      <td>26.9</td>\n",
              "    </tr>\n",
              "    <tr>\n",
              "      <th>736</th>\n",
              "      <td>Karl-Anthony Towns</td>\n",
              "      <td>C</td>\n",
              "      <td>24.6</td>\n",
              "    </tr>\n",
              "    <tr>\n",
              "      <th>808</th>\n",
              "      <td>Trae Young</td>\n",
              "      <td>PG</td>\n",
              "      <td>28.4</td>\n",
              "    </tr>\n",
              "  </tbody>\n",
              "</table>\n",
              "</div>\n",
              "      <button class=\"colab-df-convert\" onclick=\"convertToInteractive('df-d37df7a4-3be7-415f-b463-a6d40545c282')\"\n",
              "              title=\"Convert this dataframe to an interactive table.\"\n",
              "              style=\"display:none;\">\n",
              "        \n",
              "  <svg xmlns=\"http://www.w3.org/2000/svg\" height=\"24px\"viewBox=\"0 0 24 24\"\n",
              "       width=\"24px\">\n",
              "    <path d=\"M0 0h24v24H0V0z\" fill=\"none\"/>\n",
              "    <path d=\"M18.56 5.44l.94 2.06.94-2.06 2.06-.94-2.06-.94-.94-2.06-.94 2.06-2.06.94zm-11 1L8.5 8.5l.94-2.06 2.06-.94-2.06-.94L8.5 2.5l-.94 2.06-2.06.94zm10 10l.94 2.06.94-2.06 2.06-.94-2.06-.94-.94-2.06-.94 2.06-2.06.94z\"/><path d=\"M17.41 7.96l-1.37-1.37c-.4-.4-.92-.59-1.43-.59-.52 0-1.04.2-1.43.59L10.3 9.45l-7.72 7.72c-.78.78-.78 2.05 0 2.83L4 21.41c.39.39.9.59 1.41.59.51 0 1.02-.2 1.41-.59l7.78-7.78 2.81-2.81c.8-.78.8-2.07 0-2.86zM5.41 20L4 18.59l7.72-7.72 1.47 1.35L5.41 20z\"/>\n",
              "  </svg>\n",
              "      </button>\n",
              "      \n",
              "  <style>\n",
              "    .colab-df-container {\n",
              "      display:flex;\n",
              "      flex-wrap:wrap;\n",
              "      gap: 12px;\n",
              "    }\n",
              "\n",
              "    .colab-df-convert {\n",
              "      background-color: #E8F0FE;\n",
              "      border: none;\n",
              "      border-radius: 50%;\n",
              "      cursor: pointer;\n",
              "      display: none;\n",
              "      fill: #1967D2;\n",
              "      height: 32px;\n",
              "      padding: 0 0 0 0;\n",
              "      width: 32px;\n",
              "    }\n",
              "\n",
              "    .colab-df-convert:hover {\n",
              "      background-color: #E2EBFA;\n",
              "      box-shadow: 0px 1px 2px rgba(60, 64, 67, 0.3), 0px 1px 3px 1px rgba(60, 64, 67, 0.15);\n",
              "      fill: #174EA6;\n",
              "    }\n",
              "\n",
              "    [theme=dark] .colab-df-convert {\n",
              "      background-color: #3B4455;\n",
              "      fill: #D2E3FC;\n",
              "    }\n",
              "\n",
              "    [theme=dark] .colab-df-convert:hover {\n",
              "      background-color: #434B5C;\n",
              "      box-shadow: 0px 1px 3px 1px rgba(0, 0, 0, 0.15);\n",
              "      filter: drop-shadow(0px 1px 2px rgba(0, 0, 0, 0.3));\n",
              "      fill: #FFFFFF;\n",
              "    }\n",
              "  </style>\n",
              "\n",
              "      <script>\n",
              "        const buttonEl =\n",
              "          document.querySelector('#df-d37df7a4-3be7-415f-b463-a6d40545c282 button.colab-df-convert');\n",
              "        buttonEl.style.display =\n",
              "          google.colab.kernel.accessAllowed ? 'block' : 'none';\n",
              "\n",
              "        async function convertToInteractive(key) {\n",
              "          const element = document.querySelector('#df-d37df7a4-3be7-415f-b463-a6d40545c282');\n",
              "          const dataTable =\n",
              "            await google.colab.kernel.invokeFunction('convertToInteractive',\n",
              "                                                     [key], {});\n",
              "          if (!dataTable) return;\n",
              "\n",
              "          const docLinkHtml = 'Like what you see? Visit the ' +\n",
              "            '<a target=\"_blank\" href=https://colab.research.google.com/notebooks/data_table.ipynb>data table notebook</a>'\n",
              "            + ' to learn more about interactive tables.';\n",
              "          element.innerHTML = '';\n",
              "          dataTable['output_type'] = 'display_data';\n",
              "          await google.colab.output.renderOutput(dataTable, element);\n",
              "          const docLink = document.createElement('div');\n",
              "          docLink.innerHTML = docLinkHtml;\n",
              "          element.appendChild(docLink);\n",
              "        }\n",
              "      </script>\n",
              "    </div>\n",
              "  </div>\n",
              "  "
            ]
          },
          "metadata": {},
          "execution_count": 43
        }
      ]
    },
    {
      "cell_type": "code",
      "source": [
        "# Cantidad de jugadores destacados por posición\n",
        "\n",
        "Jugadores['Pos'].value_counts().plot(kind='barh', figsize=(10,8));"
      ],
      "metadata": {
        "id": "OXflQROCawOb",
        "outputId": "e1ceec9c-42d4-4b0f-c1c5-09c28a666191",
        "colab": {
          "base_uri": "https://localhost:8080/",
          "height": 483
        }
      },
      "execution_count": null,
      "outputs": [
        {
          "output_type": "display_data",
          "data": {
            "text/plain": [
              "<Figure size 720x576 with 1 Axes>"
            ],
            "image/png": "[encoded data removed]"
          },
          "metadata": {
            "needs_background": "light"
          }
        }
      ]
    },
    {
      "cell_type": "markdown",
      "source": [
        "# Estadísticas por conferencia"
      ],
      "metadata": {
        "id": "aaPZupL9g0Lg"
      }
    },
    {
      "cell_type": "code",
      "source": [
        "# Dataframe Equipos por conferencia\n",
        "nba_conferencias = pd.DataFrame(\n",
        "    {\n",
        "     \"Tm\": [\"ATL\", \"BOS\", \"BRK\", \"CHO\", \"CHI\", \"CLE\", \"DAL\", \"DEN\", \"DET\", \"GSW\", \"HOU\", \"IND\", \"LAL\", \"LAC\", \"MEM\", \"MIA\", \"MIL\", \"MIN\", \"NOP\", \"NYK\", \"OKC\", \"ORL\", \"PHI\", \"PHO\", \"POR\", \"SAC\", \"SAS\", \"TOR\", \"UTA\", \"WAS\"],\n",
        "     \"Conf\": [\"East\", \"East\", \"East\", \"East\", \"East\", \"East\", \"West\", \"West\", \"East\", \"West\", \"West\", \"East\", \"West\", \"West\", \"West\", \"West\", \"East\", \"West\", \"East\", \"East\", \"West\", \"East\", \"East\", \"West\", \"West\", \"West\", \"West\", \"East\", \"West\", \"East\"]\n",
        "    })\n",
        "nba_conferencias\n"
      ],
      "metadata": {
        "id": "bPenwCO_Nbao",
        "outputId": "9f6dade2-ff99-4419-e2b9-55a5f4e3558e",
        "colab": {
          "base_uri": "https://localhost:8080/",
          "height": 990
        }
      },
      "execution_count": null,
      "outputs": [
        {
          "output_type": "execute_result",
          "data": {
            "text/plain": [
              "     Tm  Conf\n",
              "0   ATL  East\n",
              "1   BOS  East\n",
              "2   BRK  East\n",
              "3   CHO  East\n",
              "4   CHI  East\n",
              "5   CLE  East\n",
              "6   DAL  West\n",
              "7   DEN  West\n",
              "8   DET  East\n",
              "9   GSW  West\n",
              "10  HOU  West\n",
              "11  IND  East\n",
              "12  LAL  West\n",
              "13  LAC  West\n",
              "14  MEM  West\n",
              "15  MIA  West\n",
              "16  MIL  East\n",
              "17  MIN  West\n",
              "18  NOP  East\n",
              "19  NYK  East\n",
              "20  OKC  West\n",
              "21  ORL  East\n",
              "22  PHI  East\n",
              "23  PHO  West\n",
              "24  POR  West\n",
              "25  SAC  West\n",
              "26  SAS  West\n",
              "27  TOR  East\n",
              "28  UTA  West\n",
              "29  WAS  East"
            ],
            "text/html": [
              "\n",
              "  <div id=\"df-5ad9848e-f5fa-4713-b01a-94411d7468b9\">\n",
              "    <div class=\"colab-df-container\">\n",
              "      <div>\n",
              "<style scoped>\n",
              "    .dataframe tbody tr th:only-of-type {\n",
              "        vertical-align: middle;\n",
              "    }\n",
              "\n",
              "    .dataframe tbody tr th {\n",
              "        vertical-align: top;\n",
              "    }\n",
              "\n",
              "    .dataframe thead th {\n",
              "        text-align: right;\n",
              "    }\n",
              "</style>\n",
              "<table border=\"1\" class=\"dataframe\">\n",
              "  <thead>\n",
              "    <tr style=\"text-align: right;\">\n",
              "      <th></th>\n",
              "      <th>Tm</th>\n",
              "      <th>Conf</th>\n",
              "    </tr>\n",
              "  </thead>\n",
              "  <tbody>\n",
              "    <tr>\n",
              "      <th>0</th>\n",
              "      <td>ATL</td>\n",
              "      <td>East</td>\n",
              "    </tr>\n",
              "    <tr>\n",
              "      <th>1</th>\n",
              "      <td>BOS</td>\n",
              "      <td>East</td>\n",
              "    </tr>\n",
              "    <tr>\n",
              "      <th>2</th>\n",
              "      <td>BRK</td>\n",
              "      <td>East</td>\n",
              "    </tr>\n",
              "    <tr>\n",
              "      <th>3</th>\n",
              "      <td>CHO</td>\n",
              "      <td>East</td>\n",
              "    </tr>\n",
              "    <tr>\n",
              "      <th>4</th>\n",
              "      <td>CHI</td>\n",
              "      <td>East</td>\n",
              "    </tr>\n",
              "    <tr>\n",
              "      <th>5</th>\n",
              "      <td>CLE</td>\n",
              "      <td>East</td>\n",
              "    </tr>\n",
              "    <tr>\n",
              "      <th>6</th>\n",
              "      <td>DAL</td>\n",
              "      <td>West</td>\n",
              "    </tr>\n",
              "    <tr>\n",
              "      <th>7</th>\n",
              "      <td>DEN</td>\n",
              "      <td>West</td>\n",
              "    </tr>\n",
              "    <tr>\n",
              "      <th>8</th>\n",
              "      <td>DET</td>\n",
              "      <td>East</td>\n",
              "    </tr>\n",
              "    <tr>\n",
              "      <th>9</th>\n",
              "      <td>GSW</td>\n",
              "      <td>West</td>\n",
              "    </tr>\n",
              "    <tr>\n",
              "      <th>10</th>\n",
              "      <td>HOU</td>\n",
              "      <td>West</td>\n",
              "    </tr>\n",
              "    <tr>\n",
              "      <th>11</th>\n",
              "      <td>IND</td>\n",
              "      <td>East</td>\n",
              "    </tr>\n",
              "    <tr>\n",
              "      <th>12</th>\n",
              "      <td>LAL</td>\n",
              "      <td>West</td>\n",
              "    </tr>\n",
              "    <tr>\n",
              "      <th>13</th>\n",
              "      <td>LAC</td>\n",
              "      <td>West</td>\n",
              "    </tr>\n",
              "    <tr>\n",
              "      <th>14</th>\n",
              "      <td>MEM</td>\n",
              "      <td>West</td>\n",
              "    </tr>\n",
              "    <tr>\n",
              "      <th>15</th>\n",
              "      <td>MIA</td>\n",
              "      <td>West</td>\n",
              "    </tr>\n",
              "    <tr>\n",
              "      <th>16</th>\n",
              "      <td>MIL</td>\n",
              "      <td>East</td>\n",
              "    </tr>\n",
              "    <tr>\n",
              "      <th>17</th>\n",
              "      <td>MIN</td>\n",
              "      <td>West</td>\n",
              "    </tr>\n",
              "    <tr>\n",
              "      <th>18</th>\n",
              "      <td>NOP</td>\n",
              "      <td>East</td>\n",
              "    </tr>\n",
              "    <tr>\n",
              "      <th>19</th>\n",
              "      <td>NYK</td>\n",
              "      <td>East</td>\n",
              "    </tr>\n",
              "    <tr>\n",
              "      <th>20</th>\n",
              "      <td>OKC</td>\n",
              "      <td>West</td>\n",
              "    </tr>\n",
              "    <tr>\n",
              "      <th>21</th>\n",
              "      <td>ORL</td>\n",
              "      <td>East</td>\n",
              "    </tr>\n",
              "    <tr>\n",
              "      <th>22</th>\n",
              "      <td>PHI</td>\n",
              "      <td>East</td>\n",
              "    </tr>\n",
              "    <tr>\n",
              "      <th>23</th>\n",
              "      <td>PHO</td>\n",
              "      <td>West</td>\n",
              "    </tr>\n",
              "    <tr>\n",
              "      <th>24</th>\n",
              "      <td>POR</td>\n",
              "      <td>West</td>\n",
              "    </tr>\n",
              "    <tr>\n",
              "      <th>25</th>\n",
              "      <td>SAC</td>\n",
              "      <td>West</td>\n",
              "    </tr>\n",
              "    <tr>\n",
              "      <th>26</th>\n",
              "      <td>SAS</td>\n",
              "      <td>West</td>\n",
              "    </tr>\n",
              "    <tr>\n",
              "      <th>27</th>\n",
              "      <td>TOR</td>\n",
              "      <td>East</td>\n",
              "    </tr>\n",
              "    <tr>\n",
              "      <th>28</th>\n",
              "      <td>UTA</td>\n",
              "      <td>West</td>\n",
              "    </tr>\n",
              "    <tr>\n",
              "      <th>29</th>\n",
              "      <td>WAS</td>\n",
              "      <td>East</td>\n",
              "    </tr>\n",
              "  </tbody>\n",
              "</table>\n",
              "</div>\n",
              "      <button class=\"colab-df-convert\" onclick=\"convertToInteractive('df-5ad9848e-f5fa-4713-b01a-94411d7468b9')\"\n",
              "              title=\"Convert this dataframe to an interactive table.\"\n",
              "              style=\"display:none;\">\n",
              "        \n",
              "  <svg xmlns=\"http://www.w3.org/2000/svg\" height=\"24px\"viewBox=\"0 0 24 24\"\n",
              "       width=\"24px\">\n",
              "    <path d=\"M0 0h24v24H0V0z\" fill=\"none\"/>\n",
              "    <path d=\"M18.56 5.44l.94 2.06.94-2.06 2.06-.94-2.06-.94-.94-2.06-.94 2.06-2.06.94zm-11 1L8.5 8.5l.94-2.06 2.06-.94-2.06-.94L8.5 2.5l-.94 2.06-2.06.94zm10 10l.94 2.06.94-2.06 2.06-.94-2.06-.94-.94-2.06-.94 2.06-2.06.94z\"/><path d=\"M17.41 7.96l-1.37-1.37c-.4-.4-.92-.59-1.43-.59-.52 0-1.04.2-1.43.59L10.3 9.45l-7.72 7.72c-.78.78-.78 2.05 0 2.83L4 21.41c.39.39.9.59 1.41.59.51 0 1.02-.2 1.41-.59l7.78-7.78 2.81-2.81c.8-.78.8-2.07 0-2.86zM5.41 20L4 18.59l7.72-7.72 1.47 1.35L5.41 20z\"/>\n",
              "  </svg>\n",
              "      </button>\n",
              "      \n",
              "  <style>\n",
              "    .colab-df-container {\n",
              "      display:flex;\n",
              "      flex-wrap:wrap;\n",
              "      gap: 12px;\n",
              "    }\n",
              "\n",
              "    .colab-df-convert {\n",
              "      background-color: #E8F0FE;\n",
              "      border: none;\n",
              "      border-radius: 50%;\n",
              "      cursor: pointer;\n",
              "      display: none;\n",
              "      fill: #1967D2;\n",
              "      height: 32px;\n",
              "      padding: 0 0 0 0;\n",
              "      width: 32px;\n",
              "    }\n",
              "\n",
              "    .colab-df-convert:hover {\n",
              "      background-color: #E2EBFA;\n",
              "      box-shadow: 0px 1px 2px rgba(60, 64, 67, 0.3), 0px 1px 3px 1px rgba(60, 64, 67, 0.15);\n",
              "      fill: #174EA6;\n",
              "    }\n",
              "\n",
              "    [theme=dark] .colab-df-convert {\n",
              "      background-color: #3B4455;\n",
              "      fill: #D2E3FC;\n",
              "    }\n",
              "\n",
              "    [theme=dark] .colab-df-convert:hover {\n",
              "      background-color: #434B5C;\n",
              "      box-shadow: 0px 1px 3px 1px rgba(0, 0, 0, 0.15);\n",
              "      filter: drop-shadow(0px 1px 2px rgba(0, 0, 0, 0.3));\n",
              "      fill: #FFFFFF;\n",
              "    }\n",
              "  </style>\n",
              "\n",
              "      <script>\n",
              "        const buttonEl =\n",
              "          document.querySelector('#df-5ad9848e-f5fa-4713-b01a-94411d7468b9 button.colab-df-convert');\n",
              "        buttonEl.style.display =\n",
              "          google.colab.kernel.accessAllowed ? 'block' : 'none';\n",
              "\n",
              "        async function convertToInteractive(key) {\n",
              "          const element = document.querySelector('#df-5ad9848e-f5fa-4713-b01a-94411d7468b9');\n",
              "          const dataTable =\n",
              "            await google.colab.kernel.invokeFunction('convertToInteractive',\n",
              "                                                     [key], {});\n",
              "          if (!dataTable) return;\n",
              "\n",
              "          const docLinkHtml = 'Like what you see? Visit the ' +\n",
              "            '<a target=\"_blank\" href=https://colab.research.google.com/notebooks/data_table.ipynb>data table notebook</a>'\n",
              "            + ' to learn more about interactive tables.';\n",
              "          element.innerHTML = '';\n",
              "          dataTable['output_type'] = 'display_data';\n",
              "          await google.colab.output.renderOutput(dataTable, element);\n",
              "          const docLink = document.createElement('div');\n",
              "          docLink.innerHTML = docLinkHtml;\n",
              "          element.appendChild(docLink);\n",
              "        }\n",
              "      </script>\n",
              "    </div>\n",
              "  </div>\n",
              "  "
            ]
          },
          "metadata": {},
          "execution_count": 21
        }
      ]
    },
    {
      "cell_type": "code",
      "source": [
        "# Añadir la columna Conf al df nba_stats\n",
        "nba_stats_conf = pd.merge(nba_stats, nba_conferencias, on='Tm')\n",
        "nba_stats_conf.dtypes"
      ],
      "metadata": {
        "id": "kTUmgoWxQ9iz",
        "outputId": "1c8e57d3-d03b-447a-bcdc-6905b47cbdab",
        "colab": {
          "base_uri": "https://localhost:8080/"
        }
      },
      "execution_count": null,
      "outputs": [
        {
          "output_type": "execute_result",
          "data": {
            "text/plain": [
              "Rk           int64\n",
              "Player      object\n",
              "Pos         object\n",
              "Tm          object\n",
              "3P         float64\n",
              "3P%        float64\n",
              "2P         float64\n",
              "2P%        float64\n",
              "0-3f%      float64\n",
              "3-10f%     float64\n",
              "10-16f%    float64\n",
              "16f-3P%    float64\n",
              "Dunks        int64\n",
              "FT         float64\n",
              "FT%        float64\n",
              "TRB        float64\n",
              "AST        float64\n",
              "STL        float64\n",
              "BLK        float64\n",
              "TOV        float64\n",
              "PF         float64\n",
              "PTS        float64\n",
              "Conf        object\n",
              "dtype: object"
            ]
          },
          "metadata": {},
          "execution_count": 24
        }
      ]
    },
    {
      "cell_type": "code",
      "source": [
        "# Anotaciones por posición. Conferencia Este vs Conferencia Oeste\n",
        "\n",
        "g = sns.FacetGrid(nba_stats_conf, col=\"Pos\", height=4, aspect=.5)\n",
        "g.map(sns.barplot, \"Conf\", \"PTS\", order=[\"East\", \"West\"]);"
      ],
      "metadata": {
        "id": "FQxs7yVgSdGL",
        "outputId": "540a6f4e-2c8c-42cc-91ac-eb4e4e54e785",
        "colab": {
          "base_uri": "https://localhost:8080/",
          "height": 297
        }
      },
      "execution_count": null,
      "outputs": [
        {
          "output_type": "display_data",
          "data": {
            "text/plain": [
              "<Figure size 720x288 with 5 Axes>"
            ],
            "image/png": "[encoded data removed]"
          },
          "metadata": {
            "needs_background": "light"
          }
        }
      ]
    },
    {
      "cell_type": "code",
      "source": [
        "# Asistencias por posición. Conferencia Este vs Conferencia Oeste\n",
        "\n",
        "g = sns.FacetGrid(nba_stats_conf, col=\"Pos\", height=4, aspect=.5)\n",
        "g.map(sns.barplot, \"Conf\", \"AST\", order=[\"East\", \"West\"]);"
      ],
      "metadata": {
        "id": "kKC0uNY4TDtq",
        "outputId": "730b50a6-a839-49a1-fff5-7882b7cbae1f",
        "colab": {
          "base_uri": "https://localhost:8080/",
          "height": 297
        }
      },
      "execution_count": null,
      "outputs": [
        {
          "output_type": "display_data",
          "data": {
            "text/plain": [
              "<Figure size 720x288 with 5 Axes>"
            ],
            "image/png": "[encoded data removed]"
          },
          "metadata": {
            "needs_background": "light"
          }
        }
      ]
    },
    {
      "cell_type": "code",
      "source": [],
      "metadata": {
        "id": "SieGR6OGyP2y"
      },
      "execution_count": null,
      "outputs": []
    }
  ],
  "metadata": {
    "kernelspec": {
      "display_name": "Python 3.10.6 64-bit",
      "language": "python",
      "name": "python3"
    },
    "language_info": {
      "codemirror_mode": {
        "name": "ipython",
        "version": 3
      },
      "file_extension": ".py",
      "mimetype": "text/x-python",
      "name": "python",
      "nbconvert_exporter": "python",
      "pygments_lexer": "ipython3",
      "version": "3.10.6"
    },
    "orig_nbformat": 4,
    "vscode": {
      "interpreter": {
        "hash": "fb6feb75f7af981b774a0e179f1468b8521b9d6a39497c6a181cfd3660f0bdd3"
      }
    },
    "colab": {
      "provenance": [],
      "include_colab_link": true
    }
  },
  "nbformat": 4,
  "nbformat_minor": 0
}